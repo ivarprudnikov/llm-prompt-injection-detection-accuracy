{
 "cells": [
  {
   "cell_type": "code",
   "execution_count": null,
   "id": "f9dbba28",
   "metadata": {},
   "outputs": [],
   "source": [
    "import pandas as pd\n",
    "import zipfile\n",
    "\n",
    "file_basic_gpt_4_1 = 'data/output_basic_gpt_4_1.json'\n",
    "file_basic_gpt_4_1_after = 'data/output_increased_10k_gpt_4_1.json'\n",
    "combined_data = pd.read_json(file_basic_gpt_4_1, lines=False, orient='records')\n",
    "\n",
    "# Loads split article html for testing\n",
    "# The article was not seen by the model in training\n",
    "# size_tokens 10450\n",
    "# size_kb 36\n",
    "with zipfile.ZipFile(\"data/increases/10k_news_article_before.html.zip\", 'r') as zipfile_before:\n",
    "    with zipfile_before.open(\"before.txt\") as before_html:\n",
    "        before_html_b = before_html.read()\n",
    "        before_html_txt = before_html_b.decode('utf-8')\n",
    "with zipfile.ZipFile(\"data/increases/10k_news_article_after.html.zip\", 'r') as zipfile_after:\n",
    "    with zipfile_after.open(\"after.txt\") as after_html:\n",
    "        after_html_b = after_html.read()\n",
    "        after_html_txt = after_html_b.decode('utf-8')\n",
    "\n",
    "print(\"Before HTML:\")\n",
    "print(before_html_txt.splitlines()[:3])\n",
    "print(\"\\nAfter HTML:\")\n",
    "print(after_html_txt.splitlines()[:3])\n",
    "\n"
   ]
  },
  {
   "cell_type": "code",
   "execution_count": null,
   "id": "04582ede",
   "metadata": {},
   "outputs": [],
   "source": [
    "from dotenv import load_dotenv, dotenv_values\n",
    "load_dotenv()\n",
    "\n",
    "config = {\n",
    "    **dotenv_values(\".env\"),\n",
    "    **dotenv_values(\".env.local\"),\n",
    "}"
   ]
  },
  {
   "cell_type": "code",
   "execution_count": null,
   "id": "1c42b87b",
   "metadata": {},
   "outputs": [],
   "source": [
    "# add new columns to the dataframe\n",
    "# response_after_10k, is_correct_after_10k\n",
    "combined_data['response_after_10k'] = None\n",
    "combined_data['is_correct_after_10k'] = None\n",
    "\n",
    "# preview table\n",
    "print(combined_data.head(3))"
   ]
  },
  {
   "cell_type": "code",
   "execution_count": null,
   "id": "9034ffb6",
   "metadata": {},
   "outputs": [],
   "source": [
    "from openai import OpenAI\n",
    "from tenacity import retry, wait_exponential, stop_after_attempt\n",
    "import time\n",
    "\n",
    "client = OpenAI(api_key=config['OPENAI_API_KEY'])\n",
    "\n",
    "@retry(wait=wait_exponential(min=1, max=10), stop=stop_after_attempt(5))\n",
    "def call_openai(sys_prompt, input_text):\n",
    "    # send dot to output\n",
    "    print(\".\", end=\"\")\n",
    "    response = client.responses.create(\n",
    "        model=\"gpt-4.1\",\n",
    "        instructions=sys_prompt,\n",
    "        input=input_text,\n",
    "        temperature=0.1,\n",
    "        max_output_tokens=16, # response should be short\n",
    "        timeout=10,\n",
    "    )\n",
    "    return response\n",
    "\n",
    "\n",
    "print(\"Starting to call OpenAI to evaluate the prompts with increased context ...\")\n",
    "for index, row in combined_data.iterrows():\n",
    "    if index % 100 == 0:\n",
    "        print(f\"Processing row {index}/{len(combined_data)}\")\n",
    "    \n",
    "    if pd.notna(row['response_after_10k']):\n",
    "        continue\n",
    "\n",
    "    input_text = row.iloc[0]\n",
    "    try:\n",
    "        input_text: str = before_html_txt + row['input'] + after_html_txt\n",
    "        if pd.notna(row['detection_after_prompt']):\n",
    "            input_text += row['detection_after_prompt']\n",
    "\n",
    "        sys_prompt: str = row['detection_system_prompt']\n",
    "        response = call_openai(sys_prompt, input_text)\n",
    "        response_text = response.output_text\n",
    "        combined_data.at[index, 'response_after_10k'] = response_text\n",
    "        combined_data.at[index, 'is_correct_after_10k'] = (\"SUSPICIOUS\" in response_text) == row['is_attack']\n",
    "    except Exception as e:\n",
    "        print(f\"Error processing input at index {index}: {e}\")\n",
    "        combined_data.at[index, 'response_after_10k'] = 'ERROR'\n",
    "        combined_data.at[index, 'is_correct_after_10k']\n",
    "    \n",
    "    time.sleep(0.15)  # Avoid hitting the rate limit\n",
    "\n"
   ]
  },
  {
   "cell_type": "code",
   "execution_count": null,
   "id": "a8c12065",
   "metadata": {},
   "outputs": [],
   "source": [
    "# print first 2 rows from the dataframe\n",
    "print(\"First 2 rows of the dataframe after processing:\")\n",
    "print(combined_data.head(2))\n",
    "print(\"Saving the output to\", file_basic_gpt_4_1_after)\n",
    "combined_data.to_json(file_basic_gpt_4_1_after, orient='records', lines=False)\n"
   ]
  },
  {
   "cell_type": "code",
   "execution_count": null,
   "id": "002b503b",
   "metadata": {},
   "outputs": [],
   "source": [
    "total = len(combined_data)\n",
    "combined_data['is_correct_after_10k'] = combined_data['is_correct_after_10k'].astype(bool)\n",
    "is_correct = sum(combined_data['is_correct_after_10k'])\n",
    "print(f\"Total: {total}\")\n",
    "print(f\"Correct: {is_correct}\")\n",
    "print(f\"Accuracy: {is_correct / total * 100:.2f}%\")\n",
    "print(f\"Incorrect: {total - is_correct}\")"
   ]
  }
 ],
 "metadata": {
  "kernelspec": {
   "display_name": "venv",
   "language": "python",
   "name": "python3"
  },
  "language_info": {
   "codemirror_mode": {
    "name": "ipython",
    "version": 3
   },
   "file_extension": ".py",
   "mimetype": "text/x-python",
   "name": "python",
   "nbconvert_exporter": "python",
   "pygments_lexer": "ipython3",
   "version": "3.13.3"
  }
 },
 "nbformat": 4,
 "nbformat_minor": 5
}
